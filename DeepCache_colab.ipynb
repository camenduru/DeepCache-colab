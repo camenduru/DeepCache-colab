{
  "cells": [
    {
      "cell_type": "markdown",
      "metadata": {
        "id": "view-in-github"
      },
      "source": [
        "[![Open In Colab](https://colab.research.google.com/assets/colab-badge.svg)](https://colab.research.google.com/github/camenduru/DeepCache-colab/blob/main/DeepCache_colab.ipynb)"
      ]
    },
    {
      "cell_type": "code",
      "execution_count": null,
      "metadata": {
        "id": "VjYy0F2gZIPR"
      },
      "outputs": [],
      "source": [
        "%cd /content\n",
        "!git clone -b dev https://github.com/camenduru/DeepCache\n",
        "%cd /content/DeepCache\n",
        "\n",
        "!pip install diffusers==0.21.4 transformers accelerate gradio\n",
        "!pip install -q https://download.pytorch.org/whl/cu118/xformers-0.0.22.post4%2Bcu118-cp310-cp310-manylinux2014_x86_64.whl\n",
        "\n",
        "import sys\n",
        "sys.path.append('/content/DeepCache')\n",
        "# !python stable_diffusion.py --model runwayml/stable-diffusion-v1-5\n",
        "\n",
        "from torchvision.transforms import ToPILImage\n",
        "from DeepCache.pipeline_stable_diffusion import StableDiffusionPipeline\n",
        "import torch\n",
        "\n",
        "pipe = StableDiffusionPipeline.from_pretrained('runwayml/stable-diffusion-v1-5', torch_dtype=torch.float16).to(\"cuda:0\")\n",
        "pipe.enable_xformers_memory_efficient_attention()\n",
        "\n",
        "import gradio as gr\n",
        "\n",
        "def generate(prompt, negative_prompt, num_inference_steps, width, height):\n",
        "    deepcache_output = pipe(\n",
        "        prompt, negative_prompt=negative_prompt, num_inference_steps=num_inference_steps, width=width, height=height,\n",
        "        cache_interval=5, cache_layer_id=0, cache_block_id=0,\n",
        "        uniform=True, #pow=1.4, center=15, # only for uniform = False\n",
        "        output_type='pt', return_dict=True\n",
        "    ).images[0]\n",
        "    to_pil = ToPILImage()\n",
        "    pil_image = to_pil(deepcache_output[0])\n",
        "    return pil_image\n",
        "\n",
        "with gr.Blocks(title=f\"DeepCache\", css=\".gradio-container {max-width: 544px !important}\") as demo:\n",
        "    with gr.Group():\n",
        "      prompt = gr.Textbox(show_label=False, value=\"a toy train. macro photo. 3d game asset\")\n",
        "      with gr.Row():\n",
        "          negative_prompt = gr.Textbox(show_label=False, value=\"blurry\")\n",
        "          button = gr.Button()\n",
        "      with gr.Row():\n",
        "          width = gr.Slider(minimum=256, maximum=2048, step=8, value=512, label=\"width\")\n",
        "          height = gr.Slider(minimum=256, maximum=2048, step=8, value=512, label=\"height\")\n",
        "          num_inference_steps = gr.Slider(minimum=1, maximum=150, step=1, value=50, label=\"num_inference_steps\")\n",
        "      output_images = gr.Image(\n",
        "          show_label=False,\n",
        "          type=\"pil\",\n",
        "          interactive=False,\n",
        "          height=512,\n",
        "          width=512,\n",
        "          elem_id=\"output_image\",\n",
        "      )\n",
        "    button.click(fn=generate, inputs=[prompt, negative_prompt, num_inference_steps, width, height], outputs=[output_images], show_progress=True)\n",
        "demo.queue().launch(inline=False, share=True, debug=True)"
      ]
    }
  ],
  "metadata": {
    "accelerator": "GPU",
    "colab": {
      "gpuType": "T4",
      "provenance": []
    },
    "kernelspec": {
      "display_name": "Python 3",
      "name": "python3"
    },
    "language_info": {
      "name": "python"
    }
  },
  "nbformat": 4,
  "nbformat_minor": 0
}
